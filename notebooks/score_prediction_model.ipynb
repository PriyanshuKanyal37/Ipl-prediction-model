{
 "cells": [
  {
   "cell_type": "code",
   "execution_count": 29,
   "metadata": {},
   "outputs": [
    {
     "name": "stdout",
     "output_type": "stream",
     "text": [
      "✅ Model saved to: ../models/score_predictor_model.pkl\n",
      "✅ Encoders saved to: ../models/score_label_encoders.pkl\n"
     ]
    }
   ],
   "source": [
    "import pandas as pd\n",
    "from sklearn.preprocessing import LabelEncoder\n",
    "from sklearn.model_selection import train_test_split\n",
    "from xgboost import XGBRegressor\n",
    "import joblib\n",
    "import os\n",
    "\n",
    "# 1. Load dataset\n",
    "df = pd.read_csv('../data/raw/match_data.csv')  # Make sure the path is correct\n",
    "\n",
    "# 2. Extract numeric target (first innings score)\n",
    "df['1st_inning_runs'] = pd.to_numeric(\n",
    "    df['1st_inning_score'].astype(str).str.extract(r'(\\d+)')[0], errors='coerce'\n",
    ")\n",
    "df = df.dropna(subset=['1st_inning_runs'])\n",
    "\n",
    "# 3. Encode categorical features\n",
    "encoders = {\n",
    "    'home_team': LabelEncoder(),\n",
    "    'away_team': LabelEncoder(),\n",
    "    'toss_won': LabelEncoder(),\n",
    "    'decision': LabelEncoder(),\n",
    "    'venue_name': LabelEncoder()\n",
    "}\n",
    "\n",
    "for col, encoder in encoders.items():\n",
    "    df[col + '_enc'] = encoder.fit_transform(df[col].astype(str))\n",
    "\n",
    "# 4. Prepare features and target\n",
    "X = df[['home_team_enc', 'away_team_enc', 'toss_won_enc', 'decision_enc', 'venue_name_enc']]\n",
    "y = df['1st_inning_runs']\n",
    "\n",
    "# 5. Split data\n",
    "X_train, X_test, y_train, y_test = train_test_split(X, y, test_size=0.2, random_state=42)\n",
    "\n",
    "# 6. Train XGBoost Regressor\n",
    "model = XGBRegressor(n_estimators=100, max_depth=5, random_state=42)\n",
    "model.fit(X_train, y_train)\n",
    "\n",
    "# Ensure models directory exists\n",
    "os.makedirs('../models', exist_ok=True)\n",
    "\n",
    "# 7. Save model and all encoders as a dictionary\n",
    "joblib.dump(model, '../models/score_predictor_model.pkl')\n",
    "joblib.dump(encoders, '../models/score_label_encoders.pkl')\n",
    "\n",
    "# 8. Confirm\n",
    "print(\"✅ Model saved to: ../models/score_predictor_model.pkl\")\n",
    "print(\"✅ Encoders saved to: ../models/score_label_encoders.pkl\")\n"
   ]
  },
  {
   "cell_type": "code",
   "execution_count": 32,
   "metadata": {},
   "outputs": [
    {
     "name": "stdout",
     "output_type": "stream",
     "text": [
      "Input shape used for training: 5\n"
     ]
    }
   ],
   "source": [
    "print(\"Input shape used for training:\", X_train.shape[1])\n"
   ]
  },
  {
   "cell_type": "code",
   "execution_count": 33,
   "metadata": {},
   "outputs": [
    {
     "name": "stdout",
     "output_type": "stream",
     "text": [
      "['Arun Jaitley Stadium, Delhi' 'Barabati Stadium, Cuttack'\n",
      " 'Barsapara Cricket Stadium, Guwahati'\n",
      " 'Bharat Ratna Shri Atal Bihari Vajpayee Ekana Cricket Stadium, Lucknow'\n",
      " 'Brabourne Stadium, Mumbai' 'Buffalo Park, East London'\n",
      " 'Diamond Oval, Kimberley' 'Dr DY Patil Sports Academy, Mumbai'\n",
      " 'Dr DY Patil Sports Academy, Navi Mumbai'\n",
      " 'Dr. Y.S. Rajasekhara Reddy ACA-VDCA Cricket Stadium, Visakhapatnam'\n",
      " 'Dubai International Cricket Stadium' 'Eden Gardens, Kolkata'\n",
      " 'Green Park, Kanpur'\n",
      " 'Himachal Pradesh Cricket Association Stadium, Dharamsala'\n",
      " 'Holkar Cricket Stadium, Indore'\n",
      " 'JSCA International Stadium Complex, Ranchi' 'Kingsmead, Durban'\n",
      " 'M.Chinnaswamy Stadium, Bengaluru'\n",
      " 'MA Chidambaram Stadium, Chepauk, Chennai'\n",
      " 'Maharashtra Cricket Association Stadium, Pune'\n",
      " 'Mangaung Oval, Bloemfontein' 'Narendra Modi Stadium, Motera, Ahmedabad'\n",
      " 'Nehru Stadium, Kochi' 'Newlands, Cape Town'\n",
      " 'Punjab Cricket Association IS Bindra Stadium, Mohali, Chandigarh'\n",
      " 'Rajiv Gandhi International Stadium, Uppal, Hyderabad'\n",
      " 'Sardar Patel (Gujarat) Stadium, Motera, Ahmedabad'\n",
      " 'Saurashtra Cricket Association Stadium, Rajkot'\n",
      " 'Sawai Mansingh Stadium, Jaipur'\n",
      " 'Shaheed Veer Narayan Singh International Stadium, Raipur'\n",
      " 'Sharjah Cricket Stadium' 'Sheikh Zayed Stadium, Abu Dhabi'\n",
      " \"St George's Park, Port Elizabeth\" 'SuperSport Park, Centurion'\n",
      " 'The Wanderers Stadium, Johannesburg'\n",
      " 'Vidarbha Cricket Association Stadium, Jamtha, Nagpur'\n",
      " 'Wankhede Stadium, Mumbai']\n"
     ]
    }
   ],
   "source": [
    "# Check allowed values for venue_name\n",
    "print(encoders['venue_name'].classes_)\n"
   ]
  },
  {
   "cell_type": "code",
   "execution_count": null,
   "metadata": {},
   "outputs": [],
   "source": []
  }
 ],
 "metadata": {
  "kernelspec": {
   "display_name": "Python 3",
   "language": "python",
   "name": "python3"
  },
  "language_info": {
   "codemirror_mode": {
    "name": "ipython",
    "version": 3
   },
   "file_extension": ".py",
   "mimetype": "text/x-python",
   "name": "python",
   "nbconvert_exporter": "python",
   "pygments_lexer": "ipython3",
   "version": "3.10.8"
  }
 },
 "nbformat": 4,
 "nbformat_minor": 2
}
