{
 "cells": [
  {
   "cell_type": "code",
   "execution_count": 2,
   "metadata": {},
   "outputs": [
    {
     "name": "stdout",
     "output_type": "stream",
     "text": [
      "Match Columns: ['season', 'id', 'name', 'short_name', 'description', 'home_team', 'away_team', 'toss_won', 'decision', '1st_inning_score', '2nd_inning_score', 'winner', 'result', 'start_date', 'end_date', 'venue_id', 'venue_name', 'home_captain', 'away_captain', 'pom', 'points', 'super_over', 'home_overs', 'home_runs', 'home_wickets', 'home_boundaries', 'away_overs', 'away_runs', 'away_wickets', 'away_boundaries', 'highlights', 'home_key_batsman', 'home_key_bowler', 'home_playx1', 'away_playx1', 'away_key_batsman', 'away_key_bowler', 'match_days', 'umpire1', 'umpire2', 'tv_umpire', 'referee', 'reserve_umpire']\n",
      "Ball-by-ball Columns: ['matchId', 'inning', 'over_ball', 'over', 'ball', 'batting_team', 'bowling_team', 'batsman', 'non_striker', 'bowler', 'batsman_runs', 'extras', 'isWide', 'isNoBall', 'Byes', 'LegByes', 'Penalty', 'dismissal_kind', 'player_dismissed', 'date']\n"
     ]
    },
    {
     "data": {
      "text/html": [
       "<div>\n",
       "<style scoped>\n",
       "    .dataframe tbody tr th:only-of-type {\n",
       "        vertical-align: middle;\n",
       "    }\n",
       "\n",
       "    .dataframe tbody tr th {\n",
       "        vertical-align: top;\n",
       "    }\n",
       "\n",
       "    .dataframe thead th {\n",
       "        text-align: right;\n",
       "    }\n",
       "</style>\n",
       "<table border=\"1\" class=\"dataframe\">\n",
       "  <thead>\n",
       "    <tr style=\"text-align: right;\">\n",
       "      <th></th>\n",
       "      <th>season</th>\n",
       "      <th>id</th>\n",
       "      <th>name</th>\n",
       "      <th>short_name</th>\n",
       "      <th>description</th>\n",
       "      <th>home_team</th>\n",
       "      <th>away_team</th>\n",
       "      <th>toss_won</th>\n",
       "      <th>decision</th>\n",
       "      <th>1st_inning_score</th>\n",
       "      <th>...</th>\n",
       "      <th>home_playx1</th>\n",
       "      <th>away_playx1</th>\n",
       "      <th>away_key_batsman</th>\n",
       "      <th>away_key_bowler</th>\n",
       "      <th>match_days</th>\n",
       "      <th>umpire1</th>\n",
       "      <th>umpire2</th>\n",
       "      <th>tv_umpire</th>\n",
       "      <th>referee</th>\n",
       "      <th>reserve_umpire</th>\n",
       "    </tr>\n",
       "  </thead>\n",
       "  <tbody>\n",
       "    <tr>\n",
       "      <th>0</th>\n",
       "      <td>NaN</td>\n",
       "      <td>1370350</td>\n",
       "      <td>Chennai Super Kings v Gujarat Titans</td>\n",
       "      <td>CSK v GT</td>\n",
       "      <td>Qualifier 1 (N), Indian Premier League at Chen...</td>\n",
       "      <td>CSK</td>\n",
       "      <td>GT</td>\n",
       "      <td>NaN</td>\n",
       "      <td>NaN</td>\n",
       "      <td>NaN</td>\n",
       "      <td>...</td>\n",
       "      <td>NaN</td>\n",
       "      <td>NaN</td>\n",
       "      <td>NaN</td>\n",
       "      <td>NaN</td>\n",
       "      <td>NaN</td>\n",
       "      <td>NaN</td>\n",
       "      <td>NaN</td>\n",
       "      <td>NaN</td>\n",
       "      <td>NaN</td>\n",
       "      <td>NaN</td>\n",
       "    </tr>\n",
       "    <tr>\n",
       "      <th>1</th>\n",
       "      <td>NaN</td>\n",
       "      <td>1370351</td>\n",
       "      <td>Lucknow Super Giants v Mumbai Indians</td>\n",
       "      <td>LSG v MI</td>\n",
       "      <td>Eliminator (N), Indian Premier League at Chenn...</td>\n",
       "      <td>LSG</td>\n",
       "      <td>MI</td>\n",
       "      <td>NaN</td>\n",
       "      <td>NaN</td>\n",
       "      <td>NaN</td>\n",
       "      <td>...</td>\n",
       "      <td>NaN</td>\n",
       "      <td>NaN</td>\n",
       "      <td>NaN</td>\n",
       "      <td>NaN</td>\n",
       "      <td>NaN</td>\n",
       "      <td>NaN</td>\n",
       "      <td>NaN</td>\n",
       "      <td>NaN</td>\n",
       "      <td>NaN</td>\n",
       "      <td>NaN</td>\n",
       "    </tr>\n",
       "    <tr>\n",
       "      <th>2</th>\n",
       "      <td>NaN</td>\n",
       "      <td>1370352</td>\n",
       "      <td>TBC v TBC</td>\n",
       "      <td>TBC v TBC</td>\n",
       "      <td>Qualifier 2 (N), Indian Premier League at Ahme...</td>\n",
       "      <td>TBA</td>\n",
       "      <td>TBA</td>\n",
       "      <td>NaN</td>\n",
       "      <td>NaN</td>\n",
       "      <td>NaN</td>\n",
       "      <td>...</td>\n",
       "      <td>NaN</td>\n",
       "      <td>NaN</td>\n",
       "      <td>NaN</td>\n",
       "      <td>NaN</td>\n",
       "      <td>NaN</td>\n",
       "      <td>NaN</td>\n",
       "      <td>NaN</td>\n",
       "      <td>NaN</td>\n",
       "      <td>NaN</td>\n",
       "      <td>NaN</td>\n",
       "    </tr>\n",
       "    <tr>\n",
       "      <th>3</th>\n",
       "      <td>NaN</td>\n",
       "      <td>1370353</td>\n",
       "      <td>TBC v TBC</td>\n",
       "      <td>TBC v TBC</td>\n",
       "      <td>Final (N), Indian Premier League at Ahmedabad,...</td>\n",
       "      <td>TBA</td>\n",
       "      <td>TBA</td>\n",
       "      <td>NaN</td>\n",
       "      <td>NaN</td>\n",
       "      <td>NaN</td>\n",
       "      <td>...</td>\n",
       "      <td>NaN</td>\n",
       "      <td>NaN</td>\n",
       "      <td>NaN</td>\n",
       "      <td>NaN</td>\n",
       "      <td>NaN</td>\n",
       "      <td>NaN</td>\n",
       "      <td>NaN</td>\n",
       "      <td>NaN</td>\n",
       "      <td>NaN</td>\n",
       "      <td>NaN</td>\n",
       "    </tr>\n",
       "    <tr>\n",
       "      <th>4</th>\n",
       "      <td>2023.0</td>\n",
       "      <td>1359544</td>\n",
       "      <td>Royal Challengers Bangalore v Gujarat Titans</td>\n",
       "      <td>RCB v GT</td>\n",
       "      <td>70th Match (N), Indian Premier League at Benga...</td>\n",
       "      <td>RCB</td>\n",
       "      <td>GT</td>\n",
       "      <td>GT</td>\n",
       "      <td>BOWL FIRST</td>\n",
       "      <td>197/5</td>\n",
       "      <td>...</td>\n",
       "      <td>Virat Kohli (UKN),Faf du Plessis (UKN),Glenn M...</td>\n",
       "      <td>Wriddhiman Saha (WK),Shubman Gill (UKN),Vijay ...</td>\n",
       "      <td>Shubman Gill,Vijay Shankar</td>\n",
       "      <td>Noor Ahmad,Rashid Khan</td>\n",
       "      <td>21 May 2023 - night match (20-over match)</td>\n",
       "      <td>Nitin Menon</td>\n",
       "      <td>Virender Sharma</td>\n",
       "      <td>Tapan Sharma</td>\n",
       "      <td>Javagal Srinath</td>\n",
       "      <td>VM  Dhokre</td>\n",
       "    </tr>\n",
       "  </tbody>\n",
       "</table>\n",
       "<p>5 rows × 43 columns</p>\n",
       "</div>"
      ],
      "text/plain": [
       "   season       id                                          name short_name  \\\n",
       "0     NaN  1370350          Chennai Super Kings v Gujarat Titans   CSK v GT   \n",
       "1     NaN  1370351         Lucknow Super Giants v Mumbai Indians   LSG v MI   \n",
       "2     NaN  1370352                                     TBC v TBC  TBC v TBC   \n",
       "3     NaN  1370353                                     TBC v TBC  TBC v TBC   \n",
       "4  2023.0  1359544  Royal Challengers Bangalore v Gujarat Titans   RCB v GT   \n",
       "\n",
       "                                         description home_team away_team  \\\n",
       "0  Qualifier 1 (N), Indian Premier League at Chen...       CSK        GT   \n",
       "1  Eliminator (N), Indian Premier League at Chenn...       LSG        MI   \n",
       "2  Qualifier 2 (N), Indian Premier League at Ahme...       TBA       TBA   \n",
       "3  Final (N), Indian Premier League at Ahmedabad,...       TBA       TBA   \n",
       "4  70th Match (N), Indian Premier League at Benga...       RCB        GT   \n",
       "\n",
       "  toss_won    decision 1st_inning_score  ...  \\\n",
       "0      NaN         NaN              NaN  ...   \n",
       "1      NaN         NaN              NaN  ...   \n",
       "2      NaN         NaN              NaN  ...   \n",
       "3      NaN         NaN              NaN  ...   \n",
       "4       GT  BOWL FIRST            197/5  ...   \n",
       "\n",
       "                                         home_playx1  \\\n",
       "0                                                NaN   \n",
       "1                                                NaN   \n",
       "2                                                NaN   \n",
       "3                                                NaN   \n",
       "4  Virat Kohli (UKN),Faf du Plessis (UKN),Glenn M...   \n",
       "\n",
       "                                         away_playx1  \\\n",
       "0                                                NaN   \n",
       "1                                                NaN   \n",
       "2                                                NaN   \n",
       "3                                                NaN   \n",
       "4  Wriddhiman Saha (WK),Shubman Gill (UKN),Vijay ...   \n",
       "\n",
       "             away_key_batsman         away_key_bowler  \\\n",
       "0                         NaN                     NaN   \n",
       "1                         NaN                     NaN   \n",
       "2                         NaN                     NaN   \n",
       "3                         NaN                     NaN   \n",
       "4  Shubman Gill,Vijay Shankar  Noor Ahmad,Rashid Khan   \n",
       "\n",
       "                                  match_days      umpire1          umpire2  \\\n",
       "0                                        NaN          NaN              NaN   \n",
       "1                                        NaN          NaN              NaN   \n",
       "2                                        NaN          NaN              NaN   \n",
       "3                                        NaN          NaN              NaN   \n",
       "4  21 May 2023 - night match (20-over match)  Nitin Menon  Virender Sharma   \n",
       "\n",
       "      tv_umpire          referee reserve_umpire  \n",
       "0           NaN              NaN            NaN  \n",
       "1           NaN              NaN            NaN  \n",
       "2           NaN              NaN            NaN  \n",
       "3           NaN              NaN            NaN  \n",
       "4  Tapan Sharma  Javagal Srinath     VM  Dhokre  \n",
       "\n",
       "[5 rows x 43 columns]"
      ]
     },
     "execution_count": 2,
     "metadata": {},
     "output_type": "execute_result"
    }
   ],
   "source": [
    "import pandas as pd\n",
    "\n",
    "# Load both datasets\n",
    "match_df = pd.read_csv(\"../data/raw/match_data.csv\")\n",
    "ball_df = pd.read_csv(\"../data/raw/ball_by_ball_data.csv\")\n",
    "\n",
    "# Preview structure\n",
    "print(\"Match Columns:\", match_df.columns.tolist())\n",
    "print(\"Ball-by-ball Columns:\", ball_df.columns.tolist())\n",
    "\n",
    "match_df.head()\n"
   ]
  },
  {
   "cell_type": "code",
   "execution_count": 3,
   "metadata": {},
   "outputs": [
    {
     "data": {
      "text/plain": [
       "season               5\n",
       "id                   0\n",
       "name                 0\n",
       "short_name           0\n",
       "description          0\n",
       "home_team            0\n",
       "away_team            0\n",
       "toss_won             5\n",
       "decision             5\n",
       "1st_inning_score    13\n",
       "2nd_inning_score    15\n",
       "winner               1\n",
       "result               0\n",
       "start_date           0\n",
       "end_date             0\n",
       "venue_id             0\n",
       "venue_name           0\n",
       "home_captain         5\n",
       "away_captain         5\n",
       "pom                 17\n",
       "points              65\n",
       "super_over           5\n",
       "home_overs          13\n",
       "home_runs           13\n",
       "home_wickets        13\n",
       "home_boundaries     13\n",
       "away_overs          15\n",
       "away_runs           15\n",
       "away_wickets        15\n",
       "away_boundaries     15\n",
       "highlights          27\n",
       "home_key_batsman    13\n",
       "home_key_bowler     26\n",
       "home_playx1          5\n",
       "away_playx1          5\n",
       "away_key_batsman    15\n",
       "away_key_bowler     24\n",
       "match_days           5\n",
       "umpire1              5\n",
       "umpire2              5\n",
       "tv_umpire            7\n",
       "referee              5\n",
       "reserve_umpire      31\n",
       "dtype: int64"
      ]
     },
     "execution_count": 3,
     "metadata": {},
     "output_type": "execute_result"
    }
   ],
   "source": [
    "# Null value count\n",
    "match_df.isnull().sum()"
   ]
  },
  {
   "cell_type": "code",
   "execution_count": 4,
   "metadata": {},
   "outputs": [],
   "source": [
    "# Fill empty string for captains, POM, umpires\n",
    "match_df.fillna({\n",
    "    'home_captain': 'Unknown',\n",
    "    'away_captain': 'Unknown',\n",
    "    'pom': 'None',\n",
    "    'umpire1': 'Unknown',\n",
    "    'umpire2': 'Unknown'\n",
    "}, inplace=True)\n",
    "\n",
    "# If score values are missing, drop that match\n",
    "match_df.dropna(subset=['home_runs', 'away_runs'], inplace=True)\n"
   ]
  },
  {
   "cell_type": "code",
   "execution_count": 5,
   "metadata": {},
   "outputs": [
    {
     "name": "stdout",
     "output_type": "stream",
     "text": [
      "<class 'pandas.core.frame.DataFrame'>\n",
      "RangeIndex: 260920 entries, 0 to 260919\n",
      "Data columns (total 20 columns):\n",
      " #   Column            Non-Null Count   Dtype  \n",
      "---  ------            --------------   -----  \n",
      " 0   matchId           260920 non-null  int64  \n",
      " 1   inning            260920 non-null  int64  \n",
      " 2   over_ball         260920 non-null  float64\n",
      " 3   over              260920 non-null  int64  \n",
      " 4   ball              260920 non-null  int64  \n",
      " 5   batting_team      260920 non-null  object \n",
      " 6   bowling_team      260920 non-null  object \n",
      " 7   batsman           260920 non-null  object \n",
      " 8   non_striker       260920 non-null  object \n",
      " 9   bowler            260920 non-null  object \n",
      " 10  batsman_runs      260920 non-null  int64  \n",
      " 11  extras            260920 non-null  int64  \n",
      " 12  isWide            8381 non-null    float64\n",
      " 13  isNoBall          1093 non-null    float64\n",
      " 14  Byes              673 non-null     float64\n",
      " 15  LegByes           4001 non-null    float64\n",
      " 16  Penalty           2 non-null       float64\n",
      " 17  dismissal_kind    12950 non-null   object \n",
      " 18  player_dismissed  12950 non-null   object \n",
      " 19  date              260920 non-null  object \n",
      "dtypes: float64(6), int64(6), object(8)\n",
      "memory usage: 39.8+ MB\n"
     ]
    },
    {
     "data": {
      "text/plain": [
       "matchId                  0\n",
       "inning                   0\n",
       "over_ball                0\n",
       "over                     0\n",
       "ball                     0\n",
       "batting_team             0\n",
       "bowling_team             0\n",
       "batsman                  0\n",
       "non_striker              0\n",
       "bowler                   0\n",
       "batsman_runs             0\n",
       "extras                   0\n",
       "isWide              252539\n",
       "isNoBall            259827\n",
       "Byes                260247\n",
       "LegByes             256919\n",
       "Penalty             260918\n",
       "dismissal_kind      247970\n",
       "player_dismissed    247970\n",
       "date                     0\n",
       "dtype: int64"
      ]
     },
     "execution_count": 5,
     "metadata": {},
     "output_type": "execute_result"
    }
   ],
   "source": [
    "# Basic info\n",
    "ball_df.info()\n",
    "\n",
    "# Sample rows\n",
    "ball_df.head()\n",
    "\n",
    "# Nulls\n",
    "ball_df.isnull().sum()\n"
   ]
  },
  {
   "cell_type": "code",
   "execution_count": 6,
   "metadata": {},
   "outputs": [],
   "source": [
    "# Fill non-critical columns with 0\n",
    "ball_df.fillna({\n",
    "    'dismissal_kind': 'None',\n",
    "    'player_dismissed': 'None',\n",
    "    'isWide': 0,\n",
    "    'isNoBall': 0,\n",
    "    'Byes': 0,\n",
    "    'LegByes': 0,\n",
    "    'Penalty': 0\n",
    "}, inplace=True)\n"
   ]
  },
  {
   "cell_type": "code",
   "execution_count": 7,
   "metadata": {},
   "outputs": [
    {
     "data": {
      "text/plain": [
       "<Axes: title={'center': 'Top 10 Run Scorers'}, xlabel='batsman'>"
      ]
     },
     "execution_count": 7,
     "metadata": {},
     "output_type": "execute_result"
    },
    {
     "data": {
      "image/png": "[encoded data removed]",
      "text/plain": [
       "<Figure size 1000x500 with 1 Axes>"
      ]
     },
     "metadata": {},
     "output_type": "display_data"
    }
   ],
   "source": [
    "top_batsmen = ball_df.groupby('batsman')['batsman_runs'].sum().sort_values(ascending=False).head(10)\n",
    "top_batsmen.plot(kind='bar', title='Top 10 Run Scorers', figsize=(10, 5))\n"
   ]
  },
  {
   "cell_type": "code",
   "execution_count": 8,
   "metadata": {},
   "outputs": [
    {
     "data": {
      "text/plain": [
       "<Axes: title={'center': 'Top 10 Wicket Takers'}, xlabel='bowler'>"
      ]
     },
     "execution_count": 8,
     "metadata": {},
     "output_type": "execute_result"
    },
    {
     "data": {
      "image/png": "[encoded data removed]",
      "text/plain": [
       "<Figure size 1000x500 with 1 Axes>"
      ]
     },
     "metadata": {},
     "output_type": "display_data"
    }
   ],
   "source": [
    "wickets_df = ball_df[ball_df['dismissal_kind'] != 'None']\n",
    "top_bowlers = wickets_df.groupby('bowler').size().sort_values(ascending=False).head(10)\n",
    "top_bowlers.plot(kind='bar', title='Top 10 Wicket Takers', figsize=(10, 5))\n"
   ]
  },
  {
   "cell_type": "code",
   "execution_count": 9,
   "metadata": {},
   "outputs": [
    {
     "data": {
      "text/plain": [
       "<Axes: title={'center': 'Average Runs per Over'}, xlabel='over'>"
      ]
     },
     "execution_count": 9,
     "metadata": {},
     "output_type": "execute_result"
    },
    {
     "data": {
      "image/png": "[encoded data removed]",
      "text/plain": [
       "<Figure size 1000x500 with 1 Axes>"
      ]
     },
     "metadata": {},
     "output_type": "display_data"
    }
   ],
   "source": [
    "overwise = ball_df.groupby('over')['batsman_runs'].mean()\n",
    "overwise.plot(title=\"Average Runs per Over\", figsize=(10, 5))\n"
   ]
  },
  {
   "cell_type": "code",
   "execution_count": 10,
   "metadata": {},
   "outputs": [],
   "source": [
    "match_df.to_csv(\"../data/processed/cleaned_match_data.csv\", index=False)\n",
    "ball_df.to_csv(\"../data/processed/cleaned_ball_data.csv\", index=False)\n"
   ]
  },
  {
   "cell_type": "code",
   "execution_count": 11,
   "metadata": {},
   "outputs": [],
   "source": [
    "match_df = pd.read_csv(\"../data/processed/cleaned_match_data.csv\")\n"
   ]
  },
  {
   "cell_type": "code",
   "execution_count": 12,
   "metadata": {},
   "outputs": [
    {
     "data": {
      "text/html": [
       "<div>\n",
       "<style scoped>\n",
       "    .dataframe tbody tr th:only-of-type {\n",
       "        vertical-align: middle;\n",
       "    }\n",
       "\n",
       "    .dataframe tbody tr th {\n",
       "        vertical-align: top;\n",
       "    }\n",
       "\n",
       "    .dataframe thead th {\n",
       "        text-align: right;\n",
       "    }\n",
       "</style>\n",
       "<table border=\"1\" class=\"dataframe\">\n",
       "  <thead>\n",
       "    <tr style=\"text-align: right;\">\n",
       "      <th></th>\n",
       "      <th>match_id</th>\n",
       "      <th>season</th>\n",
       "      <th>team1</th>\n",
       "      <th>team2</th>\n",
       "      <th>team1_score</th>\n",
       "      <th>team2_score</th>\n",
       "      <th>winner</th>\n",
       "      <th>venue_name</th>\n",
       "      <th>winner_label</th>\n",
       "    </tr>\n",
       "  </thead>\n",
       "  <tbody>\n",
       "    <tr>\n",
       "      <th>0</th>\n",
       "      <td>1359544</td>\n",
       "      <td>2023.0</td>\n",
       "      <td>RCB</td>\n",
       "      <td>GT</td>\n",
       "      <td>197.0</td>\n",
       "      <td>198.0</td>\n",
       "      <td>GT</td>\n",
       "      <td>M.Chinnaswamy Stadium, Bengaluru</td>\n",
       "      <td>team2</td>\n",
       "    </tr>\n",
       "    <tr>\n",
       "      <th>1</th>\n",
       "      <td>1359543</td>\n",
       "      <td>2023.0</td>\n",
       "      <td>MI</td>\n",
       "      <td>SRH</td>\n",
       "      <td>201.0</td>\n",
       "      <td>200.0</td>\n",
       "      <td>MI</td>\n",
       "      <td>Wankhede Stadium, Mumbai</td>\n",
       "      <td>team1</td>\n",
       "    </tr>\n",
       "    <tr>\n",
       "      <th>2</th>\n",
       "      <td>1359542</td>\n",
       "      <td>2023.0</td>\n",
       "      <td>KKR</td>\n",
       "      <td>LSG</td>\n",
       "      <td>175.0</td>\n",
       "      <td>176.0</td>\n",
       "      <td>LSG</td>\n",
       "      <td>Eden Gardens, Kolkata</td>\n",
       "      <td>team2</td>\n",
       "    </tr>\n",
       "    <tr>\n",
       "      <th>3</th>\n",
       "      <td>1359541</td>\n",
       "      <td>2023.0</td>\n",
       "      <td>DC</td>\n",
       "      <td>CSK</td>\n",
       "      <td>146.0</td>\n",
       "      <td>223.0</td>\n",
       "      <td>CSK</td>\n",
       "      <td>Arun Jaitley Stadium, Delhi</td>\n",
       "      <td>team2</td>\n",
       "    </tr>\n",
       "    <tr>\n",
       "      <th>4</th>\n",
       "      <td>1359540</td>\n",
       "      <td>2023.0</td>\n",
       "      <td>PBKS</td>\n",
       "      <td>RR</td>\n",
       "      <td>187.0</td>\n",
       "      <td>189.0</td>\n",
       "      <td>RR</td>\n",
       "      <td>Himachal Pradesh Cricket Association Stadium, ...</td>\n",
       "      <td>team2</td>\n",
       "    </tr>\n",
       "  </tbody>\n",
       "</table>\n",
       "</div>"
      ],
      "text/plain": [
       "   match_id  season team1 team2  team1_score  team2_score winner  \\\n",
       "0   1359544  2023.0   RCB    GT        197.0        198.0     GT   \n",
       "1   1359543  2023.0    MI   SRH        201.0        200.0     MI   \n",
       "2   1359542  2023.0   KKR   LSG        175.0        176.0    LSG   \n",
       "3   1359541  2023.0    DC   CSK        146.0        223.0    CSK   \n",
       "4   1359540  2023.0  PBKS    RR        187.0        189.0     RR   \n",
       "\n",
       "                                          venue_name winner_label  \n",
       "0                   M.Chinnaswamy Stadium, Bengaluru        team2  \n",
       "1                           Wankhede Stadium, Mumbai        team1  \n",
       "2                              Eden Gardens, Kolkata        team2  \n",
       "3                        Arun Jaitley Stadium, Delhi        team2  \n",
       "4  Himachal Pradesh Cricket Association Stadium, ...        team2  "
      ]
     },
     "execution_count": 12,
     "metadata": {},
     "output_type": "execute_result"
    }
   ],
   "source": [
    "# Create summary dataframe\n",
    "summary = match_df[['id', 'season', 'home_team', 'away_team',\n",
    "                    'home_runs', 'away_runs', 'winner', 'venue_name']].copy()\n",
    "\n",
    "summary.rename(columns={\n",
    "    'id': 'match_id',\n",
    "    'home_team': 'team1',\n",
    "    'away_team': 'team2',\n",
    "    'home_runs': 'team1_score',\n",
    "    'away_runs': 'team2_score'\n",
    "}, inplace=True)\n",
    "\n",
    "# Assign winner as either team1 or team2 label\n",
    "summary['winner_label'] = summary.apply(\n",
    "    lambda row: 'team1' if row['winner'] == row['team1'] else (\n",
    "        'team2' if row['winner'] == row['team2'] else 'draw/no result'\n",
    "    ), axis=1\n",
    ")\n",
    "\n",
    "summary.head()\n"
   ]
  },
  {
   "cell_type": "code",
   "execution_count": 13,
   "metadata": {},
   "outputs": [],
   "source": [
    "summary.to_csv(\"../data/processed/match_summary.csv\", index=False)\n"
   ]
  },
  {
   "cell_type": "code",
   "execution_count": 14,
   "metadata": {},
   "outputs": [
    {
     "data": {
      "text/html": [
       "<div>\n",
       "<style scoped>\n",
       "    .dataframe tbody tr th:only-of-type {\n",
       "        vertical-align: middle;\n",
       "    }\n",
       "\n",
       "    .dataframe tbody tr th {\n",
       "        vertical-align: top;\n",
       "    }\n",
       "\n",
       "    .dataframe thead th {\n",
       "        text-align: right;\n",
       "    }\n",
       "</style>\n",
       "<table border=\"1\" class=\"dataframe\">\n",
       "  <thead>\n",
       "    <tr style=\"text-align: right;\">\n",
       "      <th></th>\n",
       "      <th>match_id</th>\n",
       "      <th>season</th>\n",
       "      <th>team1</th>\n",
       "      <th>team2</th>\n",
       "      <th>team1_score</th>\n",
       "      <th>team2_score</th>\n",
       "      <th>winner</th>\n",
       "      <th>venue_name</th>\n",
       "      <th>winner_label</th>\n",
       "    </tr>\n",
       "  </thead>\n",
       "  <tbody>\n",
       "    <tr>\n",
       "      <th>0</th>\n",
       "      <td>1359544</td>\n",
       "      <td>2023.0</td>\n",
       "      <td>RCB</td>\n",
       "      <td>GT</td>\n",
       "      <td>197.0</td>\n",
       "      <td>198.0</td>\n",
       "      <td>GT</td>\n",
       "      <td>M.Chinnaswamy Stadium, Bengaluru</td>\n",
       "      <td>team2</td>\n",
       "    </tr>\n",
       "    <tr>\n",
       "      <th>1</th>\n",
       "      <td>1359543</td>\n",
       "      <td>2023.0</td>\n",
       "      <td>MI</td>\n",
       "      <td>SRH</td>\n",
       "      <td>201.0</td>\n",
       "      <td>200.0</td>\n",
       "      <td>MI</td>\n",
       "      <td>Wankhede Stadium, Mumbai</td>\n",
       "      <td>team1</td>\n",
       "    </tr>\n",
       "    <tr>\n",
       "      <th>2</th>\n",
       "      <td>1359542</td>\n",
       "      <td>2023.0</td>\n",
       "      <td>KKR</td>\n",
       "      <td>LSG</td>\n",
       "      <td>175.0</td>\n",
       "      <td>176.0</td>\n",
       "      <td>LSG</td>\n",
       "      <td>Eden Gardens, Kolkata</td>\n",
       "      <td>team2</td>\n",
       "    </tr>\n",
       "    <tr>\n",
       "      <th>3</th>\n",
       "      <td>1359541</td>\n",
       "      <td>2023.0</td>\n",
       "      <td>DC</td>\n",
       "      <td>CSK</td>\n",
       "      <td>146.0</td>\n",
       "      <td>223.0</td>\n",
       "      <td>CSK</td>\n",
       "      <td>Arun Jaitley Stadium, Delhi</td>\n",
       "      <td>team2</td>\n",
       "    </tr>\n",
       "    <tr>\n",
       "      <th>4</th>\n",
       "      <td>1359540</td>\n",
       "      <td>2023.0</td>\n",
       "      <td>PBKS</td>\n",
       "      <td>RR</td>\n",
       "      <td>187.0</td>\n",
       "      <td>189.0</td>\n",
       "      <td>RR</td>\n",
       "      <td>Himachal Pradesh Cricket Association Stadium, ...</td>\n",
       "      <td>team2</td>\n",
       "    </tr>\n",
       "  </tbody>\n",
       "</table>\n",
       "</div>"
      ],
      "text/plain": [
       "   match_id  season team1 team2  team1_score  team2_score winner  \\\n",
       "0   1359544  2023.0   RCB    GT        197.0        198.0     GT   \n",
       "1   1359543  2023.0    MI   SRH        201.0        200.0     MI   \n",
       "2   1359542  2023.0   KKR   LSG        175.0        176.0    LSG   \n",
       "3   1359541  2023.0    DC   CSK        146.0        223.0    CSK   \n",
       "4   1359540  2023.0  PBKS    RR        187.0        189.0     RR   \n",
       "\n",
       "                                          venue_name winner_label  \n",
       "0                   M.Chinnaswamy Stadium, Bengaluru        team2  \n",
       "1                           Wankhede Stadium, Mumbai        team1  \n",
       "2                              Eden Gardens, Kolkata        team2  \n",
       "3                        Arun Jaitley Stadium, Delhi        team2  \n",
       "4  Himachal Pradesh Cricket Association Stadium, ...        team2  "
      ]
     },
     "execution_count": 14,
     "metadata": {},
     "output_type": "execute_result"
    }
   ],
   "source": [
    "\n",
    "\n",
    "df = pd.read_csv(\"../data/processed/match_summary.csv\")\n",
    "df.head()\n"
   ]
  },
  {
   "cell_type": "code",
   "execution_count": 15,
   "metadata": {},
   "outputs": [
    {
     "name": "stdout",
     "output_type": "stream",
     "text": [
      "Requirement already satisfied: scikit-learn in c:\\users\\priya\\ipl-cricket-predictor\\.venv\\lib\\site-packages (1.6.1)\n",
      "Requirement already satisfied: threadpoolctl>=3.1.0 in c:\\users\\priya\\ipl-cricket-predictor\\.venv\\lib\\site-packages (from scikit-learn) (3.6.0)\n",
      "Requirement already satisfied: numpy>=1.19.5 in c:\\users\\priya\\ipl-cricket-predictor\\.venv\\lib\\site-packages (from scikit-learn) (2.2.5)\n",
      "Requirement already satisfied: scipy>=1.6.0 in c:\\users\\priya\\ipl-cricket-predictor\\.venv\\lib\\site-packages (from scikit-learn) (1.15.2)\n",
      "Requirement already satisfied: joblib>=1.2.0 in c:\\users\\priya\\ipl-cricket-predictor\\.venv\\lib\\site-packages (from scikit-learn) (1.5.0)\n",
      "Note: you may need to restart the kernel to use updated packages.\n"
     ]
    },
    {
     "name": "stderr",
     "output_type": "stream",
     "text": [
      "\n",
      "[notice] A new release of pip available: 22.2.2 -> 25.1.1\n",
      "[notice] To update, run: python.exe -m pip install --upgrade pip\n"
     ]
    }
   ],
   "source": [
    "%pip install scikit-learn"
   ]
  },
  {
   "cell_type": "code",
   "execution_count": 16,
   "metadata": {},
   "outputs": [
    {
     "data": {
      "text/html": [
       "<div>\n",
       "<style scoped>\n",
       "    .dataframe tbody tr th:only-of-type {\n",
       "        vertical-align: middle;\n",
       "    }\n",
       "\n",
       "    .dataframe tbody tr th {\n",
       "        vertical-align: top;\n",
       "    }\n",
       "\n",
       "    .dataframe thead th {\n",
       "        text-align: right;\n",
       "    }\n",
       "</style>\n",
       "<table border=\"1\" class=\"dataframe\">\n",
       "  <thead>\n",
       "    <tr style=\"text-align: right;\">\n",
       "      <th></th>\n",
       "      <th>team1</th>\n",
       "      <th>team2</th>\n",
       "      <th>team1_encoded</th>\n",
       "      <th>team2_encoded</th>\n",
       "      <th>winner_encoded</th>\n",
       "    </tr>\n",
       "  </thead>\n",
       "  <tbody>\n",
       "    <tr>\n",
       "      <th>0</th>\n",
       "      <td>RCB</td>\n",
       "      <td>GT</td>\n",
       "      <td>11</td>\n",
       "      <td>3</td>\n",
       "      <td>1</td>\n",
       "    </tr>\n",
       "    <tr>\n",
       "      <th>1</th>\n",
       "      <td>MI</td>\n",
       "      <td>SRH</td>\n",
       "      <td>8</td>\n",
       "      <td>14</td>\n",
       "      <td>0</td>\n",
       "    </tr>\n",
       "    <tr>\n",
       "      <th>2</th>\n",
       "      <td>KKR</td>\n",
       "      <td>LSG</td>\n",
       "      <td>4</td>\n",
       "      <td>7</td>\n",
       "      <td>1</td>\n",
       "    </tr>\n",
       "    <tr>\n",
       "      <th>3</th>\n",
       "      <td>DC</td>\n",
       "      <td>CSK</td>\n",
       "      <td>1</td>\n",
       "      <td>0</td>\n",
       "      <td>1</td>\n",
       "    </tr>\n",
       "    <tr>\n",
       "      <th>4</th>\n",
       "      <td>PBKS</td>\n",
       "      <td>RR</td>\n",
       "      <td>9</td>\n",
       "      <td>13</td>\n",
       "      <td>1</td>\n",
       "    </tr>\n",
       "  </tbody>\n",
       "</table>\n",
       "</div>"
      ],
      "text/plain": [
       "  team1 team2  team1_encoded  team2_encoded  winner_encoded\n",
       "0   RCB    GT             11              3               1\n",
       "1    MI   SRH              8             14               0\n",
       "2   KKR   LSG              4              7               1\n",
       "3    DC   CSK              1              0               1\n",
       "4  PBKS    RR              9             13               1"
      ]
     },
     "execution_count": 16,
     "metadata": {},
     "output_type": "execute_result"
    }
   ],
   "source": [
    "from sklearn.preprocessing import LabelEncoder\n",
    "\n",
    "le_team = LabelEncoder()\n",
    "df['team1_encoded'] = le_team.fit_transform(df['team1'])\n",
    "df['team2_encoded'] = le_team.transform(df['team2'])  # use same encoder\n",
    "df['winner_encoded'] = df['winner_label'].apply(lambda x: 0 if x == 'team1' else (1 if x == 'team2' else -1))\n",
    "\n",
    "# Filter out \"draw/no result\"\n",
    "df = df[df['winner_encoded'] != -1]\n",
    "\n",
    "df[['team1', 'team2', 'team1_encoded', 'team2_encoded', 'winner_encoded']].head()\n"
   ]
  },
  {
   "cell_type": "code",
   "execution_count": 17,
   "metadata": {},
   "outputs": [],
   "source": [
    "from sklearn.model_selection import train_test_split\n",
    "\n",
    "features = df[['team1_encoded', 'team2_encoded', 'team1_score']]\n",
    "labels = df['winner_encoded']\n",
    "\n",
    "X_train, X_test, y_train, y_test = train_test_split(features, labels, test_size=0.2, random_state=42)\n"
   ]
  },
  {
   "cell_type": "code",
   "execution_count": 18,
   "metadata": {},
   "outputs": [],
   "source": [
    "from sklearn.ensemble import RandomForestClassifier\n",
    "from sklearn.metrics import accuracy_score, confusion_matrix, classification_report\n",
    "\n",
    "clf = RandomForestClassifier(n_estimators=100, random_state=42)\n",
    "clf.fit(X_train, y_train)\n",
    "\n",
    "y_pred = clf.predict(X_test)\n"
   ]
  },
  {
   "cell_type": "code",
   "execution_count": 19,
   "metadata": {},
   "outputs": [
    {
     "name": "stdout",
     "output_type": "stream",
     "text": [
      "Accuracy: 0.5490196078431373\n",
      "Confusion Matrix:\n",
      " [[67 40]\n",
      " [52 45]]\n",
      "Classification Report:\n",
      "               precision    recall  f1-score   support\n",
      "\n",
      "           0       0.56      0.63      0.59       107\n",
      "           1       0.53      0.46      0.49        97\n",
      "\n",
      "    accuracy                           0.55       204\n",
      "   macro avg       0.55      0.55      0.54       204\n",
      "weighted avg       0.55      0.55      0.55       204\n",
      "\n"
     ]
    }
   ],
   "source": [
    "print(\"Accuracy:\", accuracy_score(y_test, y_pred))\n",
    "print(\"Confusion Matrix:\\n\", confusion_matrix(y_test, y_pred))\n",
    "print(\"Classification Report:\\n\", classification_report(y_test, y_pred))\n"
   ]
  },
  {
   "cell_type": "code",
   "execution_count": 20,
   "metadata": {},
   "outputs": [
    {
     "data": {
      "text/plain": [
       "['../models/team_label_encoder.pkl']"
      ]
     },
     "execution_count": 20,
     "metadata": {},
     "output_type": "execute_result"
    }
   ],
   "source": [
    "import joblib\n",
    "\n",
    "joblib.dump(clf, \"../models/match_winner_rf_model.pkl\")\n",
    "joblib.dump(le_team, \"../models/team_label_encoder.pkl\")\n"
   ]
  },
  {
   "cell_type": "code",
   "execution_count": 21,
   "metadata": {},
   "outputs": [
    {
     "data": {
      "image/png": "[encoded data removed]",
      "text/plain": [
       "<Figure size 800x500 with 1 Axes>"
      ]
     },
     "metadata": {},
     "output_type": "display_data"
    }
   ],
   "source": [
    "import matplotlib.pyplot as plt\n",
    "\n",
    "# Plot feature importances\n",
    "importances = clf.feature_importances_\n",
    "feature_names = features.columns\n",
    "\n",
    "plt.figure(figsize=(8, 5))\n",
    "plt.barh(feature_names, importances)\n",
    "plt.xlabel(\"Feature Importance\")\n",
    "plt.title(\"Random Forest Feature Importance\")\n",
    "plt.show()\n"
   ]
  },
  {
   "cell_type": "code",
   "execution_count": 22,
   "metadata": {},
   "outputs": [
    {
     "name": "stdout",
     "output_type": "stream",
     "text": [
      "Best Parameters: {'max_depth': 5, 'min_samples_split': 5, 'n_estimators': 150}\n",
      "Best Score: 0.5817958179581796\n"
     ]
    }
   ],
   "source": [
    "from sklearn.model_selection import GridSearchCV\n",
    "\n",
    "param_grid = {\n",
    "    'n_estimators': [100, 150],\n",
    "    'max_depth': [5, 10, None],\n",
    "    'min_samples_split': [2, 5]\n",
    "}\n",
    "\n",
    "grid = GridSearchCV(RandomForestClassifier(random_state=42), param_grid, cv=3, scoring='accuracy')\n",
    "grid.fit(X_train, y_train)\n",
    "\n",
    "print(\"Best Parameters:\", grid.best_params_)\n",
    "print(\"Best Score:\", grid.best_score_)\n"
   ]
  },
  {
   "cell_type": "code",
   "execution_count": 23,
   "metadata": {},
   "outputs": [
    {
     "name": "stdout",
     "output_type": "stream",
     "text": [
      "Tuned Accuracy: 0.5686274509803921\n"
     ]
    }
   ],
   "source": [
    "best_model = grid.best_estimator_\n",
    "y_pred_best = best_model.predict(X_test)\n",
    "\n",
    "print(\"Tuned Accuracy:\", accuracy_score(y_test, y_pred_best))\n"
   ]
  },
  {
   "cell_type": "code",
   "execution_count": 24,
   "metadata": {},
   "outputs": [
    {
     "name": "stdout",
     "output_type": "stream",
     "text": [
      "Requirement already satisfied: xgboost in c:\\users\\priya\\ipl-cricket-predictor\\.venv\\lib\\site-packages (3.0.0)\n",
      "Requirement already satisfied: numpy in c:\\users\\priya\\ipl-cricket-predictor\\.venv\\lib\\site-packages (from xgboost) (2.2.5)\n",
      "Requirement already satisfied: scipy in c:\\users\\priya\\ipl-cricket-predictor\\.venv\\lib\\site-packages (from xgboost) (1.15.2)\n"
     ]
    },
    {
     "name": "stderr",
     "output_type": "stream",
     "text": [
      "\n",
      "[notice] A new release of pip available: 22.2.2 -> 25.1.1\n",
      "[notice] To update, run: python.exe -m pip install --upgrade pip\n"
     ]
    }
   ],
   "source": [
    "!pip install xgboost\n"
   ]
  },
  {
   "cell_type": "code",
   "execution_count": 25,
   "metadata": {},
   "outputs": [
    {
     "name": "stderr",
     "output_type": "stream",
     "text": [
      "c:\\Users\\priya\\ipl-cricket-predictor\\.venv\\lib\\site-packages\\xgboost\\training.py:183: UserWarning: [23:19:59] WARNING: C:\\actions-runner\\_work\\xgboost\\xgboost\\src\\learner.cc:738: \n",
      "Parameters: { \"use_label_encoder\" } are not used.\n",
      "\n",
      "  bst.update(dtrain, iteration=i, fobj=obj)\n"
     ]
    }
   ],
   "source": [
    "from xgboost import XGBClassifier\n",
    "\n",
    "# Instantiate and train\n",
    "xgb_model = XGBClassifier(use_label_encoder=False, eval_metric='logloss', random_state=42)\n",
    "xgb_model.fit(X_train, y_train)\n",
    "\n",
    "# Predict\n",
    "y_pred_xgb = xgb_model.predict(X_test)\n"
   ]
  },
  {
   "cell_type": "code",
   "execution_count": 26,
   "metadata": {},
   "outputs": [
    {
     "name": "stdout",
     "output_type": "stream",
     "text": [
      "XGBoost Accuracy: 0.5441176470588235\n",
      "Confusion Matrix:\n",
      " [[61 46]\n",
      " [47 50]]\n",
      "Classification Report:\n",
      "               precision    recall  f1-score   support\n",
      "\n",
      "           0       0.56      0.57      0.57       107\n",
      "           1       0.52      0.52      0.52        97\n",
      "\n",
      "    accuracy                           0.54       204\n",
      "   macro avg       0.54      0.54      0.54       204\n",
      "weighted avg       0.54      0.54      0.54       204\n",
      "\n"
     ]
    }
   ],
   "source": [
    "from sklearn.metrics import accuracy_score, confusion_matrix, classification_report\n",
    "\n",
    "print(\"XGBoost Accuracy:\", accuracy_score(y_test, y_pred_xgb))\n",
    "print(\"Confusion Matrix:\\n\", confusion_matrix(y_test, y_pred_xgb))\n",
    "print(\"Classification Report:\\n\", classification_report(y_test, y_pred_xgb))\n"
   ]
  },
  {
   "cell_type": "code",
   "execution_count": 27,
   "metadata": {},
   "outputs": [
    {
     "data": {
      "image/png": "[encoded data removed]",
      "text/plain": [
       "<Figure size 640x480 with 1 Axes>"
      ]
     },
     "metadata": {},
     "output_type": "display_data"
    }
   ],
   "source": [
    "import matplotlib.pyplot as plt\n",
    "\n",
    "xgb_importance = xgb_model.feature_importances_\n",
    "\n",
    "plt.barh(features.columns, xgb_importance)\n",
    "plt.xlabel(\"Importance\")\n",
    "plt.title(\"XGBoost Feature Importance\")\n",
    "plt.show()\n"
   ]
  },
  {
   "cell_type": "code",
   "execution_count": 28,
   "metadata": {},
   "outputs": [
    {
     "data": {
      "text/plain": [
       "['../models/match_winner_xgb_model.pkl']"
      ]
     },
     "execution_count": 28,
     "metadata": {},
     "output_type": "execute_result"
    }
   ],
   "source": [
    "import joblib\n",
    "\n",
    "joblib.dump(xgb_model, \"../models/match_winner_xgb_model.pkl\")\n"
   ]
  },
  {
   "cell_type": "code",
   "execution_count": 29,
   "metadata": {},
   "outputs": [
    {
     "data": {
      "text/html": [
       "<div>\n",
       "<style scoped>\n",
       "    .dataframe tbody tr th:only-of-type {\n",
       "        vertical-align: middle;\n",
       "    }\n",
       "\n",
       "    .dataframe tbody tr th {\n",
       "        vertical-align: top;\n",
       "    }\n",
       "\n",
       "    .dataframe thead th {\n",
       "        text-align: right;\n",
       "    }\n",
       "</style>\n",
       "<table border=\"1\" class=\"dataframe\">\n",
       "  <thead>\n",
       "    <tr style=\"text-align: right;\">\n",
       "      <th></th>\n",
       "      <th>match_id</th>\n",
       "      <th>season</th>\n",
       "      <th>team1</th>\n",
       "      <th>team2</th>\n",
       "      <th>team1_score</th>\n",
       "      <th>team2_score</th>\n",
       "      <th>winner</th>\n",
       "      <th>venue_name</th>\n",
       "      <th>winner_label</th>\n",
       "      <th>team1_encoded</th>\n",
       "      <th>team2_encoded</th>\n",
       "      <th>winner_encoded</th>\n",
       "    </tr>\n",
       "  </thead>\n",
       "  <tbody>\n",
       "    <tr>\n",
       "      <th>0</th>\n",
       "      <td>1359544</td>\n",
       "      <td>2023.0</td>\n",
       "      <td>RCB</td>\n",
       "      <td>GT</td>\n",
       "      <td>197.0</td>\n",
       "      <td>198.0</td>\n",
       "      <td>GT</td>\n",
       "      <td>M.Chinnaswamy Stadium, Bengaluru</td>\n",
       "      <td>team2</td>\n",
       "      <td>11</td>\n",
       "      <td>3</td>\n",
       "      <td>1</td>\n",
       "    </tr>\n",
       "    <tr>\n",
       "      <th>1</th>\n",
       "      <td>1359543</td>\n",
       "      <td>2023.0</td>\n",
       "      <td>MI</td>\n",
       "      <td>SRH</td>\n",
       "      <td>201.0</td>\n",
       "      <td>200.0</td>\n",
       "      <td>MI</td>\n",
       "      <td>Wankhede Stadium, Mumbai</td>\n",
       "      <td>team1</td>\n",
       "      <td>8</td>\n",
       "      <td>14</td>\n",
       "      <td>0</td>\n",
       "    </tr>\n",
       "    <tr>\n",
       "      <th>2</th>\n",
       "      <td>1359542</td>\n",
       "      <td>2023.0</td>\n",
       "      <td>KKR</td>\n",
       "      <td>LSG</td>\n",
       "      <td>175.0</td>\n",
       "      <td>176.0</td>\n",
       "      <td>LSG</td>\n",
       "      <td>Eden Gardens, Kolkata</td>\n",
       "      <td>team2</td>\n",
       "      <td>4</td>\n",
       "      <td>7</td>\n",
       "      <td>1</td>\n",
       "    </tr>\n",
       "    <tr>\n",
       "      <th>3</th>\n",
       "      <td>1359541</td>\n",
       "      <td>2023.0</td>\n",
       "      <td>DC</td>\n",
       "      <td>CSK</td>\n",
       "      <td>146.0</td>\n",
       "      <td>223.0</td>\n",
       "      <td>CSK</td>\n",
       "      <td>Arun Jaitley Stadium, Delhi</td>\n",
       "      <td>team2</td>\n",
       "      <td>1</td>\n",
       "      <td>0</td>\n",
       "      <td>1</td>\n",
       "    </tr>\n",
       "    <tr>\n",
       "      <th>4</th>\n",
       "      <td>1359540</td>\n",
       "      <td>2023.0</td>\n",
       "      <td>PBKS</td>\n",
       "      <td>RR</td>\n",
       "      <td>187.0</td>\n",
       "      <td>189.0</td>\n",
       "      <td>RR</td>\n",
       "      <td>Himachal Pradesh Cricket Association Stadium, ...</td>\n",
       "      <td>team2</td>\n",
       "      <td>9</td>\n",
       "      <td>13</td>\n",
       "      <td>1</td>\n",
       "    </tr>\n",
       "  </tbody>\n",
       "</table>\n",
       "</div>"
      ],
      "text/plain": [
       "   match_id  season team1 team2  team1_score  team2_score winner  \\\n",
       "0   1359544  2023.0   RCB    GT        197.0        198.0     GT   \n",
       "1   1359543  2023.0    MI   SRH        201.0        200.0     MI   \n",
       "2   1359542  2023.0   KKR   LSG        175.0        176.0    LSG   \n",
       "3   1359541  2023.0    DC   CSK        146.0        223.0    CSK   \n",
       "4   1359540  2023.0  PBKS    RR        187.0        189.0     RR   \n",
       "\n",
       "                                          venue_name winner_label  \\\n",
       "0                   M.Chinnaswamy Stadium, Bengaluru        team2   \n",
       "1                           Wankhede Stadium, Mumbai        team1   \n",
       "2                              Eden Gardens, Kolkata        team2   \n",
       "3                        Arun Jaitley Stadium, Delhi        team2   \n",
       "4  Himachal Pradesh Cricket Association Stadium, ...        team2   \n",
       "\n",
       "   team1_encoded  team2_encoded  winner_encoded  \n",
       "0             11              3               1  \n",
       "1              8             14               0  \n",
       "2              4              7               1  \n",
       "3              1              0               1  \n",
       "4              9             13               1  "
      ]
     },
     "execution_count": 29,
     "metadata": {},
     "output_type": "execute_result"
    }
   ],
   "source": [
    "df.head()"
   ]
  },
  {
   "cell_type": "code",
   "execution_count": 30,
   "metadata": {},
   "outputs": [
    {
     "name": "stdout",
     "output_type": "stream",
     "text": [
      "<class 'pandas.core.frame.DataFrame'>\n",
      "RangeIndex: 1017 entries, 0 to 1016\n",
      "Data columns (total 12 columns):\n",
      " #   Column          Non-Null Count  Dtype  \n",
      "---  ------          --------------  -----  \n",
      " 0   match_id        1017 non-null   int64  \n",
      " 1   season          1017 non-null   float64\n",
      " 2   team1           1017 non-null   object \n",
      " 3   team2           1017 non-null   object \n",
      " 4   team1_score     1017 non-null   float64\n",
      " 5   team2_score     1017 non-null   float64\n",
      " 6   winner          1017 non-null   object \n",
      " 7   venue_name      1017 non-null   object \n",
      " 8   winner_label    1017 non-null   object \n",
      " 9   team1_encoded   1017 non-null   int64  \n",
      " 10  team2_encoded   1017 non-null   int64  \n",
      " 11  winner_encoded  1017 non-null   int64  \n",
      "dtypes: float64(3), int64(4), object(5)\n",
      "memory usage: 95.5+ KB\n"
     ]
    }
   ],
   "source": [
    "df.info()"
   ]
  },
  {
   "cell_type": "code",
   "execution_count": 31,
   "metadata": {},
   "outputs": [
    {
     "name": "stdout",
     "output_type": "stream",
     "text": [
      "Unique Teams:\n",
      " ['RCB' 'GT' 'MI' 'SRH' 'KKR' 'LSG' 'DC' 'CSK' 'PBKS' 'RR' 'KXIP' 'RPS'\n",
      " 'GL' 'PWI' 'Kochi']\n"
     ]
    }
   ],
   "source": [
    "teams = pd.unique(df[['team1', 'team2', 'winner']].values.ravel())\n",
    "print(\"Unique Teams:\\n\", teams)\n"
   ]
  },
  {
   "cell_type": "code",
   "execution_count": null,
   "metadata": {},
   "outputs": [],
   "source": []
  }
 ],
 "metadata": {
  "kernelspec": {
   "display_name": ".venv",
   "language": "python",
   "name": "python3"
  },
  "language_info": {
   "codemirror_mode": {
    "name": "ipython",
    "version": 3
   },
   "file_extension": ".py",
   "mimetype": "text/x-python",
   "name": "python",
   "nbconvert_exporter": "python",
   "pygments_lexer": "ipython3",
   "version": "3.10.8"
  }
 },
 "nbformat": 4,
 "nbformat_minor": 2
}
